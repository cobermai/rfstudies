{
 "cells": [
  {
   "cell_type": "markdown",
   "metadata": {
    "collapsed": true,
    "pycharm": {
     "name": "#%% md\n"
    }
   },
   "source": [
    "# Using the `handler` module\n",
    "The purpose of the handler module is to provide an interface\n",
    "for calculation of predefined data set features, and to create a context data file\n",
    "which can be used to select data.\n",
    "\n",
    "## Instantiating a context data creator\n",
    "First we define the paths to the `.hdf` files as well as the names of where to store\n",
    "the context data and combined trend data. In this example we assume that the files are in the current work directory."
   ]
  },
  {
   "cell_type": "code",
   "execution_count": null,
   "outputs": [],
   "source": [
    "import os\n",
    "cwd = os.getcwd()\n",
    "from pathlib import Path\n",
    "work_dir = Path(cwd)\n",
    "gathered_event_data_path = work_dir / \"EventDataExtLinks.hdf\"\n",
    "context_data_file_path = work_dir / \"context.hdf\"\n",
    "combined_trend_data_path = work_dir / \"combined.hdf\""
   ],
   "metadata": {
    "collapsed": false,
    "pycharm": {
     "name": "#%%\n"
    }
   }
  },
  {
   "cell_type": "markdown",
   "source": [
    "Now we can create a context data creator"
   ],
   "metadata": {
    "collapsed": false,
    "pycharm": {
     "name": "#%% md\n"
    }
   }
  },
  {
   "cell_type": "code",
   "execution_count": null,
   "outputs": [],
   "source": [
    "from src.handler import XBox2ContextDataCreator\n",
    "creator = XBox2ContextDataCreator(ed_file_path=gathered_event_data_path,\n",
    "                                      td_file_path=combined_trend_data_path,\n",
    "                                      dest_file_path=context_data_file_path)"
   ],
   "metadata": {
    "collapsed": false,
    "pycharm": {
     "name": "#%%\n"
    }
   }
  },
  {
   "cell_type": "markdown",
   "source": [
    "In order to create the context data file and combined trend data file we call the manage features function"
   ],
   "metadata": {
    "collapsed": false
   }
  },
  {
   "cell_type": "code",
   "execution_count": null,
   "outputs": [],
   "source": [
    "creator.manage_features()"
   ],
   "metadata": {
    "collapsed": false,
    "pycharm": {
     "name": "#%%\n"
    }
   }
  },
  {
   "cell_type": "markdown",
   "source": [
    "Now the context data file is created and the trend data combined into one file"
   ],
   "metadata": {
    "collapsed": false,
    "pycharm": {
     "name": "#%% md\n"
    }
   }
  }
 ],
 "metadata": {
  "kernelspec": {
   "display_name": "Python 3",
   "language": "python",
   "name": "python3"
  },
  "language_info": {
   "codemirror_mode": {
    "name": "ipython",
    "version": 2
   },
   "file_extension": ".py",
   "mimetype": "text/x-python",
   "name": "python",
   "nbconvert_exporter": "python",
   "pygments_lexer": "ipython2",
   "version": "2.7.6"
  }
 },
 "nbformat": 4,
 "nbformat_minor": 0
}