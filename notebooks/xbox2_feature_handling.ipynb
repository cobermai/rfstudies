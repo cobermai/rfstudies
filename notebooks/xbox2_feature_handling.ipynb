{
 "cells": [
  {
   "cell_type": "markdown",
   "metadata": {
    "collapsed": true,
    "pycharm": {
     "name": "#%% md\n"
    }
   },
   "source": [
    "# Using the `handler` module\n",
    "The purpose of the handler module is to provide an interface\n",
    "for calculation of predefined data set features, and to create a context data file\n",
    "which can be used to select data.\n",
    "\n",
    "## Instantiating a context data creator\n",
    "First we define the paths to the `.hdf` files as well as the names of where to store\n",
    "the context data and combined trend data. In this example we assume that the files are in the current work directory."
   ]
  },
  {
   "cell_type": "code",
   "execution_count": null,
   "metadata": {},
   "outputs": [],
   "source": [
    "import os\n",
    "import sys\n",
    "\n",
    "from pathlib import Path\n",
    "curr_dir = Path(os.path.split(os.getcwd())[0])\n",
    "\n",
    "api_dir = str(curr_dir)\n",
    "if api_dir not in sys.path:\n",
    "    sys.path.insert(0, api_dir)"
   ]
  },
  {
   "cell_type": "code",
   "execution_count": null,
   "metadata": {
    "pycharm": {
     "name": "#%%\n"
    }
   },
   "outputs": [],
   "source": [
    "work_dir = Path(\"/eos/project/m/ml-for-alarm-system/private/CLIC_data_transfert/Xbox2_hdf_new2\")\n",
    "gathered_event_data_path = work_dir / \"EventDataExtLinks.hdf\"\n",
    "context_data_file_path = work_dir / \"context.hdf\"\n",
    "combined_trend_data_path = work_dir / \"combined.hdf\""
   ]
  },
  {
   "cell_type": "markdown",
   "metadata": {
    "pycharm": {
     "name": "#%% md\n"
    }
   },
   "source": [
    "Now we can create a context data creator"
   ]
  },
  {
   "cell_type": "code",
   "execution_count": null,
   "metadata": {
    "pycharm": {
     "name": "#%%\n"
    }
   },
   "outputs": [],
   "source": [
    "from src.handler import XBox2ContextDataCreator\n",
    "creator = XBox2ContextDataCreator(ed_file_path=gathered_event_data_path,\n",
    "                                      td_file_path=combined_trend_data_path,\n",
    "                                      dest_file_path=context_data_file_path)"
   ]
  },
  {
   "cell_type": "markdown",
   "metadata": {},
   "source": [
    "In order to create the context data file and combined trend data file we call the manage features function"
   ]
  },
  {
   "cell_type": "code",
   "execution_count": null,
   "metadata": {
    "pycharm": {
     "name": "#%%\n"
    }
   },
   "outputs": [],
   "source": [
    "creator.manage_features()"
   ]
  },
  {
   "cell_type": "markdown",
   "metadata": {
    "pycharm": {
     "name": "#%% md\n"
    }
   },
   "source": [
    "Now the context data file is created and the trend data combined into one file"
   ]
  }
 ],
 "metadata": {
  "kernelspec": {
   "display_name": "Python 3",
   "language": "python",
   "name": "python3"
  },
  "language_info": {
   "codemirror_mode": {
    "name": "ipython",
    "version": 3
   },
   "file_extension": ".py",
   "mimetype": "text/x-python",
   "name": "python",
   "nbconvert_exporter": "python",
   "pygments_lexer": "ipython3",
   "version": "3.8.6"
  }
 },
 "nbformat": 4,
 "nbformat_minor": 1
}
