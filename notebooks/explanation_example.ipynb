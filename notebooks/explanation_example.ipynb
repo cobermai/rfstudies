{
 "cells": [
  {
   "cell_type": "code",
   "execution_count": null,
   "metadata": {
    "collapsed": true,
    "pycharm": {
     "name": "#%%\n"
    }
   },
   "outputs": [],
   "source": [
    "import os\n",
    "import sys\n",
    "from pathlib import Path\n",
    "\n",
    "curr_dir = Path(os.path.split(os.getcwd())[0])\n",
    "\n",
    "api_dir = str(curr_dir)\n",
    "if api_dir not in sys.path:\n",
    "    sys.path.insert(0, api_dir)\n",
    "\n",
    "import json\n",
    "import pandas as pd\n",
    "import matplotlib.pyplot as plt\n",
    "import matplotlib as mpl\n",
    "\n",
    "from src.model.classifier import Classifier\n",
    "from src.xbox2_specific.datasets.XBOX2_trend_all_bd_20ms import XBOX2TrendAllBD20msSelect\n",
    "from src.utils.dataset_creator import load_dataset"
   ]
  },
  {
   "cell_type": "markdown",
   "source": [
    "# Train model on data\n",
    "Before using explainable AI we need to have a trained model.\n",
    "To get more insight in this step see the `modeling_example` notebook."
   ],
   "metadata": {
    "collapsed": false
   }
  },
  {
   "cell_type": "code",
   "execution_count": null,
   "outputs": [],
   "source": [
    "#Load data\n",
    "train_runs = [2, 4, 5, 6, 8, 9]\n",
    "valid_runs = [1, 7]\n",
    "test_runs = [3]\n",
    "\n",
    "path_to_data = Path(\"/eos/project/m/ml-for-alarm-system/private/CLIC_data_transfert/Xbox2_hdf_new2/\")\n",
    "\n",
    "train, valid, test = load_dataset(creator=XBOX2TrendAllBD20msSelect(),\n",
    "                                  data_path=path_to_data,\n",
    "                                  manual_split=(train_runs, valid_runs, test_runs),\n",
    "                                  manual_scale=[1, 2, 3, 4, 5, 6, 7, 8, 9])"
   ],
   "metadata": {
    "collapsed": false,
    "pycharm": {
     "name": "#%%\n"
    }
   }
  },
  {
   "cell_type": "code",
   "source": [
    "# Plot Dataset\n",
    "n_features = len(train.X.feature)\n",
    "\n",
    "fig, ax = plt.subplots(n_features,2, figsize=(20,60))\n",
    "for i in range(n_features):\n",
    "    ax[i, 0].plot(train.X[train.y.argmax(axis=1) == 0][:,:,i].values.T, alpha=0.3)\n",
    "    ax[i, 0].set_xlabel(\"sample\")\n",
    "    ax[i, 0].set_ylabel(train.X.feature[i].values)\n",
    "    ax[i, 0].set_xticks([0, 1, 2])\n",
    "    ax[i, 1].plot(train.X[train.y.argmax(axis=1) == 1][:,:,i].values.T, alpha=0.3)\n",
    "    ax[i, 1].set_xlabel(\"sample\")\n",
    "    ax[i, 1].set_xticks([0, 1, 2])\n",
    "    bottom0, top0 = ax[i, 0].set_ylim()\n",
    "    bottom1, top1 = ax[i, 1].set_ylim()\n",
    "    ax[i, 0].set_ylim([min([bottom0, bottom1]), max([top0, top1])])\n",
    "    ax[i, 1].set_ylim([min([bottom0, bottom1]), max([top0, top1])])\n",
    "\n",
    "ax[0, 0].set_title(\"Healthy\")\n",
    "ax[0, 1].set_title(\"Breakdown in 20 ms\")\n",
    "fig.tight_layout()\n",
    "plt.show()"
   ],
   "metadata": {
    "collapsed": false,
    "pycharm": {
     "name": "#%%\n"
    }
   },
   "execution_count": null,
   "outputs": []
  },
  {
   "cell_type": "code",
   "source": [
    "# Getting data ready for machine learning\n",
    "from src.utils.dataset_creator import da_to_numpy_for_ml\n",
    "train_numpy, valid_numpy, test_numpy = da_to_numpy_for_ml(train, valid, test)"
   ],
   "metadata": {
    "collapsed": false,
    "pycharm": {
     "name": "#%%\n"
    }
   },
   "execution_count": null,
   "outputs": []
  },
  {
   "cell_type": "code",
   "execution_count": null,
   "outputs": [],
   "source": [
    "# Load hyperparameters into dictionary\n",
    "hp_file = open(Path(api_dir) / \"src/model/default_hyperparameters.json\")\n",
    "hp_dict = json.load(hp_file)\n",
    "\n",
    "# Create model\n",
    "clf = Classifier(input_shape=train_numpy.X.shape, output_directory=Path(api_dir) / \"src/output\", **hp_dict)"
   ],
   "metadata": {
    "collapsed": false,
    "pycharm": {
     "name": "#%%\n"
    }
   }
  },
  {
   "cell_type": "code",
   "source": [
    "# Fit model to training set and validate on validation set\n",
    "clf.fit_classifier(train_numpy, valid_numpy)\n",
    "# load weights from an already trained model\n",
    "# clf.model.load_weights(Path(api_dir) / \"src/model/trained_models/trend_all_bd_20ms.hdf5\")\n"
   ],
   "metadata": {
    "collapsed": false,
    "pycharm": {
     "name": "#%%\n"
    }
   },
   "execution_count": null,
   "outputs": []
  },
  {
   "cell_type": "markdown",
   "source": [
    "## Evaluate Model\n",
    "To evaluate the performance of the model, the `evaluate` method can be used."
   ],
   "metadata": {
    "collapsed": false
   }
  },
  {
   "cell_type": "code",
   "execution_count": null,
   "outputs": [],
   "source": [
    "# eval classifier\n",
    "results = clf.model.evaluate(x=test_numpy.X, y=test_numpy.y, return_dict=True)\n",
    "pd.DataFrame.from_dict(results, orient='index').T"
   ],
   "metadata": {
    "collapsed": false,
    "pycharm": {
     "name": "#%%\n"
    }
   }
  },
  {
   "cell_type": "markdown",
   "source": [
    "# Explanation\n",
    "After training the model we now wish to explain the predictions of the model.\n",
    "This can be done using explainers such as the SHAP gradient explainer.\n",
    "\n",
    "## Make prediction\n",
    "To explain a prediction we first make predictions on the test set"
   ],
   "metadata": {
    "collapsed": false,
    "pycharm": {
     "name": "#%% md\n"
    }
   }
  },
  {
   "cell_type": "code",
   "execution_count": null,
   "outputs": [],
   "source": [
    "y_pred = clf.model.predict(x=test_numpy.X)"
   ],
   "metadata": {
    "collapsed": false,
    "pycharm": {
     "name": "#%%\n"
    }
   }
  },
  {
   "cell_type": "markdown",
   "source": [
    "We then use `explain_samples` to explain the samples here using the SHAP graident explainer."
   ],
   "metadata": {
    "collapsed": false,
    "pycharm": {
     "name": "#%% md\n"
    }
   }
  },
  {
   "cell_type": "code",
   "execution_count": null,
   "outputs": [],
   "source": [
    "from src.model.explainer import explain_samples\n",
    "from src.model.sample_explainers.gradient_shap import ShapGradientExplainer\n",
    "\n",
    "is_correct_classification = (y_pred.argmax(axis=1) == test_numpy.y.argmax(axis=1))\n",
    "ex_classification = explain_samples(explainer=ShapGradientExplainer(),\n",
    "                                    model=clf.model,\n",
    "                                    X_reference=train_numpy.X,\n",
    "                                    X_to_explain=test_numpy.X[is_correct_classification, :, :])"
   ],
   "metadata": {
    "collapsed": false,
    "pycharm": {
     "name": "#%%\n"
    }
   }
  },
  {
   "cell_type": "markdown",
   "source": [
    "## Visualization of explanations\n",
    "In order to present the sample explanation we can make a plot of the signal with a coloured overlay.\n",
    "The overlay color is determined by the shap value."
   ],
   "metadata": {
    "collapsed": false
   }
  },
  {
   "cell_type": "code",
   "execution_count": null,
   "outputs": [],
   "source": [
    "def plot_importance(X_to_explain, y_pred, explanation):\n",
    "    cmap = mpl.colors.LinearSegmentedColormap.from_list('shap', [mpl.cm.cool(0), (1, 1, 1, 1), mpl.cm.cool(256)],N=256)\n",
    "\n",
    "    fig, ax = plt.subplots(figsize=(7,5))\n",
    "    ax.plot(X_to_explain[(y_pred.argmax(axis=1) == 0), :, :].mean(axis=0), linewidth=3, c=\"b\")\n",
    "    ax.plot(X_to_explain[(y_pred.argmax(axis=1) == 1), :, :].mean(axis=0), linewidth=3, c=\"r\")\n",
    "\n",
    "    extent = [0, len(X_to_explain[0]), ax.get_ylim()[0], ax.get_ylim()[1]]\n",
    "    im1 = ax.imshow(explanation[0].mean(axis=0).T, cmap=cmap, aspect=\"auto\", alpha=0.8, extent=extent)\n",
    "    cbar1 = fig.colorbar(im1, ax=ax)\n",
    "    cbar1.set_label(\"SHAP values (relative)\")\n",
    "\n",
    "    ax.set_xlabel(\"samples\")\n",
    "    ax.set_xlabel(\"amplitude\")\n",
    "    ax.set_title(\"Explanations of Classifications\")\n",
    "    ax.legend([\"Mean normal\",\"Mean ischemia\"])"
   ],
   "metadata": {
    "collapsed": false,
    "pycharm": {
     "name": "#%%\n"
    }
   }
  }
 ],
 "metadata": {
  "kernelspec": {
   "name": "pycharm-5394b832",
   "language": "python",
   "display_name": "PyCharm (mlframework)"
  },
  "language_info": {
   "codemirror_mode": {
    "name": "ipython",
    "version": 2
   },
   "file_extension": ".py",
   "mimetype": "text/x-python",
   "name": "python",
   "nbconvert_exporter": "python",
   "pygments_lexer": "ipython2",
   "version": "2.7.6"
  }
 },
 "nbformat": 4,
 "nbformat_minor": 0
}