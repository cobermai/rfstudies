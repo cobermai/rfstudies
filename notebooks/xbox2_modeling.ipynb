{
 "cells": [
  {
   "cell_type": "code",
   "execution_count": 1,
   "metadata": {
    "pycharm": {
     "name": "#%%\n"
    }
   },
   "outputs": [
    {
     "name": "stderr",
     "output_type": "stream",
     "text": [
      "2021-11-10 11:27:15.206627: W tensorflow/stream_executor/platform/default/dso_loader.cc:64] Could not load dynamic library 'libcudart.so.11.0'; dlerror: libcudart.so.11.0: cannot open shared object file: No such file or directory\n",
      "2021-11-10 11:27:15.206643: I tensorflow/stream_executor/cuda/cudart_stub.cc:29] Ignore above cudart dlerror if you do not have a GPU set up on your machine.\n"
     ]
    }
   ],
   "source": [
    "import os\n",
    "import sys\n",
    "from pathlib import Path\n",
    "\n",
    "curr_dir = Path(os.path.split(os.getcwd())[0])\n",
    "\n",
    "api_dir = str(curr_dir)\n",
    "if api_dir not in sys.path:\n",
    "    sys.path.insert(0, api_dir)\n",
    "\n",
    "import json\n",
    "import pandas as pd\n",
    "import matplotlib.pyplot as plt\n",
    "import matplotlib as mpl\n",
    "\n",
    "from src.model.classifier import Classifier\n",
    "from src.xbox2_specific.datasets.XBOX2_trend_all_bd_20ms import XBOX2TrendAllBD20msSelect\n",
    "from src.utils.dataset_creator import load_dataset"
   ]
  },
  {
   "cell_type": "markdown",
   "metadata": {},
   "source": [
    "# Load Dataset\n",
    "To load a dataset the dataset name and path to data has to be supplied.\n",
    "This information is then passed to the `load_dataset` function which returns training, validation and test set.\n",
    "\n",
    "For the xbox2 dataset some additional information is passed to the dataset loader.\n",
    "First, the `manual_split` argument can be used to specify custom splitting of the data using run numbers.\n",
    "Secondly, the `manual_scale` argument can be used to specify if scaling should\n",
    "be done using mean and standard deviation of each run."
   ]
  },
  {
   "cell_type": "code",
   "execution_count": 2,
   "metadata": {
    "pycharm": {
     "is_executing": true,
     "name": "#%%\n"
    }
   },
   "outputs": [
    {
     "name": "stderr",
     "output_type": "stream",
     "text": [
      "2021-11-10 11:48:44.226863: W tensorflow/stream_executor/platform/default/dso_loader.cc:64] Could not load dynamic library 'libcuda.so.1'; dlerror: libcuda.so.1: cannot open shared object file: No such file or directory\n",
      "2021-11-10 11:48:44.252410: W tensorflow/stream_executor/cuda/cuda_driver.cc:269] failed call to cuInit: UNKNOWN ERROR (303)\n",
      "2021-11-10 11:48:44.264727: I tensorflow/stream_executor/cuda/cuda_diagnostics.cc:156] kernel driver does not appear to be running on this host (hsb-cern): /proc/driver/nvidia/version does not exist\n",
      "2021-11-10 11:48:44.578682: I tensorflow/core/platform/cpu_feature_guard.cc:142] This TensorFlow binary is optimized with oneAPI Deep Neural Network Library (oneDNN) to use the following CPU instructions in performance-critical operations:  AVX2 FMA\n",
      "To enable them in other operations, rebuild TensorFlow with the appropriate compiler flags.\n"
     ]
    }
   ],
   "source": [
    "train_runs = [2, 4, 5, 6, 8, 9]\n",
    "valid_runs = [1, 7]\n",
    "test_runs = [3]\n",
    "\n",
    "path_to_data = Path(\"/eos/project/m/ml-for-alarm-system/private/CLIC_data_transfert/Xbox2_hdf_new2/\")\n",
    "\n",
    "train, valid, test = load_dataset(creator=XBOX2TrendAllBD20msSelect(),\n",
    "                                  data_path=path_to_data,\n",
    "                                  manual_split=(train_runs, valid_runs, test_runs),\n",
    "                                  manual_scale=[1, 2, 3, 4, 5, 6, 7, 8, 9])"
   ]
  },
  {
   "cell_type": "markdown",
   "metadata": {
    "pycharm": {
     "name": "#%% md\n"
    }
   },
   "source": [
    "# Plot Dataset\n",
    "A good sanity check is to plot the data and checking if the data looks as expected."
   ]
  },
  {
   "cell_type": "code",
   "execution_count": 5,
   "metadata": {
    "pycharm": {
     "name": "#%%\n"
    }
   },
   "outputs": [],
   "source": [
    "n_features = len(train.X.feature)\n",
    "\n",
    "fig, ax = plt.subplots(n_features,2, figsize=(20,60))\n",
    "for i in range(n_features):\n",
    "    ax[i, 0].plot(train.X[train.y.values.argmax(axis=1) == 0][:,:,i].values.T, alpha=0.3)\n",
    "    ax[i, 0].set_xlabel(\"sample\")\n",
    "    ax[i, 0].set_ylabel(train.X.feature[i].values)\n",
    "    ax[i, 0].set_xticks([0, 1, 2])\n",
    "    ax[i, 1].plot(train.X[train.y.values.argmax(axis=1) == 1][:,:,i].values.T, alpha=0.3)\n",
    "    ax[i, 1].set_xlabel(\"sample\")\n",
    "    ax[i, 1].set_xticks([0, 1, 2])\n",
    "    bottom0, top0 = ax[i, 0].set_ylim()\n",
    "    bottom1, top1 = ax[i, 1].set_ylim()\n",
    "    ax[i, 0].set_ylim([min([bottom0, bottom1]), max([top0, top1])])\n",
    "    ax[i, 1].set_ylim([min([bottom0, bottom1]), max([top0, top1])])\n",
    "\n",
    "ax[0, 0].set_title(\"Healthy\")\n",
    "ax[0, 1].set_title(\"Breakdown in 20 ms\")\n",
    "fig.tight_layout()\n",
    "plt.show()"
   ]
  },
  {
   "cell_type": "markdown",
   "metadata": {
    "pycharm": {
     "name": "#%% md\n"
    }
   },
   "source": [
    "# Getting data ready for machine learning\n",
    "Before the data is sent to the machine learning models we need to convert them from xarray DataArrays into standard numpy arrays.\n",
    "This can be done manually or using the helper function found in the dataset_creator module."
   ]
  },
  {
   "cell_type": "code",
   "execution_count": null,
   "metadata": {
    "pycharm": {
     "name": "#%%\n"
    }
   },
   "outputs": [],
   "source": [
    "from src.utils.dataset_creator import da_to_numpy_for_ml\n",
    "train_numpy, valid_numpy, test_numpy = da_to_numpy_for_ml(train, valid, test)"
   ]
  },
  {
   "cell_type": "markdown",
   "metadata": {},
   "source": [
    "# Create and Use Classifier Model\n",
    "To create a classifier model an instance of the `Classifier` class is created.\n",
    "To do this some hyperparameter settings are needed. These are loaded from a ´.json´ file.\n",
    "We also need to pass the input shape and the directory to put model outputs."
   ]
  },
  {
   "cell_type": "code",
   "execution_count": null,
   "metadata": {
    "pycharm": {
     "name": "#%%\n"
    }
   },
   "outputs": [],
   "source": [
    "# Load hyperparameters into dictionary\n",
    "hp_file = open(Path(api_dir) / \"src/model/default_hyperparameters.json\")\n",
    "hp_dict = json.load(hp_file)\n",
    "\n",
    "# Create model\n",
    "clf = Classifier(input_shape=train_numpy.X.shape, output_directory=Path(api_dir) / \"src/output\", **hp_dict)"
   ]
  },
  {
   "cell_type": "markdown",
   "metadata": {},
   "source": [
    "## Fit Model\n",
    "After the model is created it has to be fitted to the data. This is done using the `fit_classifier` method.\n",
    "Alternatively if a model already has been trained, the trained weights can be loaded.\n",
    "It is faster to simply load pretrained weights as training is time-consuming."
   ]
  },
  {
   "cell_type": "code",
   "execution_count": null,
   "metadata": {
    "pycharm": {
     "name": "#%%\n"
    }
   },
   "outputs": [],
   "source": [
    "# Fit model to training set and validate on validation set\n",
    "clf.fit_classifier(train_numpy, valid_numpy)\n",
    "# load weights from an already trained model\n",
    "# clf.model.load_weights(Path(api_dir) / \"src/model/trained_models/trend_all_bd_20ms.hdf5\")"
   ]
  },
  {
   "cell_type": "markdown",
   "metadata": {},
   "source": [
    "## Make Prediction\n",
    "When the model has been fitted to the data, it can be used to make predictions.\n",
    "Here the prediction is done on the kept out test set using the `predict` method."
   ]
  },
  {
   "cell_type": "code",
   "execution_count": null,
   "metadata": {
    "pycharm": {
     "name": "#%%\n"
    }
   },
   "outputs": [],
   "source": [
    "y_pred = clf.model.predict(x=test_numpy.X)\n",
    "y_pred"
   ]
  },
  {
   "cell_type": "markdown",
   "metadata": {},
   "source": [
    "## Evaluate Model\n",
    "To evaluate the performance of the model, the `evaluate` method can be used."
   ]
  },
  {
   "cell_type": "code",
   "execution_count": 8,
   "metadata": {
    "pycharm": {
     "name": "#%%\n"
    }
   },
   "outputs": [
    {
     "name": "stdout",
     "output_type": "stream",
     "text": [
      "21/21 [==============================] - 0s 2ms/step - loss: 0.5697 - tp: 636.0000 - fp: 17.0000 - tn: 636.0000 - fn: 17.0000 - accuracy: 0.9740 - precision: 0.9740 - recall: 0.9740 - auc: 0.9797 - prc: 0.9738    \n"
     ]
    },
    {
     "data": {
      "text/html": [
       "<div>\n",
       "<style scoped>\n",
       "    .dataframe tbody tr th:only-of-type {\n",
       "        vertical-align: middle;\n",
       "    }\n",
       "\n",
       "    .dataframe tbody tr th {\n",
       "        vertical-align: top;\n",
       "    }\n",
       "\n",
       "    .dataframe thead th {\n",
       "        text-align: right;\n",
       "    }\n",
       "</style>\n",
       "<table border=\"1\" class=\"dataframe\">\n",
       "  <thead>\n",
       "    <tr style=\"text-align: right;\">\n",
       "      <th></th>\n",
       "      <th>loss</th>\n",
       "      <th>tp</th>\n",
       "      <th>fp</th>\n",
       "      <th>tn</th>\n",
       "      <th>fn</th>\n",
       "      <th>accuracy</th>\n",
       "      <th>precision</th>\n",
       "      <th>recall</th>\n",
       "      <th>auc</th>\n",
       "      <th>prc</th>\n",
       "    </tr>\n",
       "  </thead>\n",
       "  <tbody>\n",
       "    <tr>\n",
       "      <th>0</th>\n",
       "      <td>0.569676</td>\n",
       "      <td>636.0</td>\n",
       "      <td>17.0</td>\n",
       "      <td>636.0</td>\n",
       "      <td>17.0</td>\n",
       "      <td>0.973966</td>\n",
       "      <td>0.973966</td>\n",
       "      <td>0.973966</td>\n",
       "      <td>0.979728</td>\n",
       "      <td>0.973786</td>\n",
       "    </tr>\n",
       "  </tbody>\n",
       "</table>\n",
       "</div>"
      ],
      "text/plain": [
       "       loss     tp    fp     tn    fn  accuracy  precision    recall  \\\n",
       "0  0.569676  636.0  17.0  636.0  17.0  0.973966   0.973966  0.973966   \n",
       "\n",
       "        auc       prc  \n",
       "0  0.979728  0.973786  "
      ]
     },
     "execution_count": 8,
     "metadata": {},
     "output_type": "execute_result"
    }
   ],
   "source": [
    "# eval classifier\n",
    "results = clf.model.evaluate(x=test_numpy.X, y=test_numpy.y, return_dict=True)\n",
    "pd.DataFrame.from_dict(results, orient='index').T"
   ]
  },
  {
   "cell_type": "markdown",
   "metadata": {
    "pycharm": {
     "name": "#%% md\n"
    }
   },
   "source": [
    "# Explanation\n",
    "After training the model we now wish to explain the predictions of the model.\n",
    "This can be done using explainers such as the SHAP gradient explainer.\n",
    "\n",
    "## Make prediction\n",
    "To explain a prediction we first make predictions on the test set"
   ]
  },
  {
   "cell_type": "code",
   "execution_count": 9,
   "metadata": {
    "pycharm": {
     "name": "#%%\n"
    }
   },
   "outputs": [],
   "source": [
    "y_pred = clf.model.predict(x=test_numpy.X)"
   ]
  },
  {
   "cell_type": "markdown",
   "metadata": {
    "pycharm": {
     "name": "#%% md\n"
    }
   },
   "source": [
    "We then use `explain_samples` to explain the samples.\n",
    "In this example we use the SHAP gradient explainer."
   ]
  },
  {
   "cell_type": "code",
   "execution_count": 10,
   "metadata": {
    "pycharm": {
     "name": "#%%\n"
    }
   },
   "outputs": [
    {
     "name": "stderr",
     "output_type": "stream",
     "text": [
      "`tf.keras.backend.set_learning_phase` is deprecated and will be removed after 2020-10-11. To update it, simply pass a True/False value to the `training` argument of the `__call__` method of your layer or model.\n"
     ]
    }
   ],
   "source": [
    "from src.model.explainer import explain_samples\n",
    "from src.model.sample_explainers.gradient_shap import ShapGradientExplainer\n",
    "\n",
    "is_correct_classification = (y_pred.argmax(axis=1) == test_numpy.y.argmax(axis=1))\n",
    "ex_classification = explain_samples(explainer=ShapGradientExplainer(),\n",
    "                                    model=clf.model,\n",
    "                                    X_reference=train_numpy.X,\n",
    "                                    X_to_explain=test_numpy.X[is_correct_classification, :, :])"
   ]
  },
  {
   "cell_type": "markdown",
   "metadata": {},
   "source": [
    "## Visualization of explanations\n",
    "To explain which features are most important for the explanation, \n",
    "we can take the global mean of the shap values for each feature. \n",
    "To visualize the explanation we can plot this in a barplot. "
   ]
  },
  {
   "cell_type": "code",
   "execution_count": 12,
   "metadata": {
    "pycharm": {
     "name": "#%%\n"
    }
   },
   "outputs": [
    {
     "data": {
      "image/png": "[encoded data removed]",
      "text/plain": [
       "<Figure size 720x1440 with 1 Axes>"
      ]
     },
     "metadata": {
      "needs_background": "light"
     },
     "output_type": "display_data"
    }
   ],
   "source": [
    "import numpy as np\n",
    "import pandas as pd\n",
    "ex_global = np.mean(np.mean(ex_classification[1], axis=0), axis=0)\n",
    "df = pd.DataFrame({'feature': test.X.feature.values, 'shap_val': ex_global})\n",
    "ax = df.plot.barh(x='feature', y='shap_val', figsize=(10,20))\n"
   ]
  },
  {
   "cell_type": "markdown",
   "metadata": {
    "pycharm": {
     "name": "#%% md\n"
    }
   },
   "source": [
    "In order to present the sample explanation we can make a plot of the signal with a coloured overlay.\n",
    "Here, overlay color is determined by the shap value."
   ]
  },
  {
   "cell_type": "code",
   "execution_count": null,
   "metadata": {
    "pycharm": {
     "name": "#%%\n"
    }
   },
   "outputs": [],
   "source": [
    "def plot_importance(X_to_explain, y_pred, explanation):\n",
    "    cmap = mpl.colors.LinearSegmentedColormap.from_list('shap', [mpl.cm.cool(0), (1, 1, 1, 1), mpl.cm.cool(256)],N=256)\n",
    "\n",
    "    fig, ax = plt.subplots(figsize=(7,5))\n",
    "    ax.plot(X_to_explain[(y_pred.argmax(axis=1) == 0), :, :].mean(axis=0), linewidth=3, c=\"b\")\n",
    "    ax.plot(X_to_explain[(y_pred.argmax(axis=1) == 1), :, :].mean(axis=0), linewidth=3, c=\"r\")\n",
    "\n",
    "    extent = [0, len(X_to_explain[0]), ax.get_ylim()[0], ax.get_ylim()[1]]\n",
    "    im1 = ax.imshow(explanation[0].mean(axis=0).T, cmap=cmap, aspect=\"auto\", alpha=0.8, extent=extent)\n",
    "    cbar1 = fig.colorbar(im1, ax=ax)\n",
    "    cbar1.set_label(\"SHAP values (relative)\")\n",
    "\n",
    "    ax.set_xlabel(\"samples\")\n",
    "    ax.set_xlabel(\"amplitude\")\n",
    "    ax.set_title(\"Explanations of Classifications\")\n",
    "    ax.legend([\"Mean normal\",\"Mean ischemia\"])"
   ]
  }
 ],
 "metadata": {
  "kernelspec": {
   "display_name": "Python 3",
   "language": "python",
   "name": "python3"
  },
  "language_info": {
   "codemirror_mode": {
    "name": "ipython",
    "version": 3
   },
   "file_extension": ".py",
   "mimetype": "text/x-python",
   "name": "python",
   "nbconvert_exporter": "python",
   "pygments_lexer": "ipython3",
   "version": "3.8.12"
  }
 },
 "nbformat": 4,
 "nbformat_minor": 1
}