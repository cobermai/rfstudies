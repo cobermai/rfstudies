{
 "cells": [
  {
   "cell_type": "markdown",
   "metadata": {
    "collapsed": true,
    "pycharm": {
     "name": "#%% md\n"
    }
   },
   "source": [
    "# Using the `transformation` module\n",
    "## Transformation from `tdms` files to `hdf5`\n",
    "As the hdf5 data format is more handy and more efficient than\n",
    "`tdms` files we wish to transform data files into `hdf5` files using the transformation part of the framework\n",
    "\n",
    "First we load the transformation module"
   ]
  },
  {
   "cell_type": "code",
   "execution_count": 1,
   "outputs": [],
   "source": [
    "from src.transformation import transform"
   ],
   "metadata": {
    "collapsed": false,
    "pycharm": {
     "name": "#%%\n"
    }
   }
  },
  {
   "cell_type": "markdown",
   "source": [
    "Then we specify the path of the `tdms` files and where to store the generated `hdf5` files:\n",
    "```\n",
    "tdms_path = Path(\"path_to_data\") # Put path to tdms data files\n",
    "hdf_path = Path(\"path_to_put_transformed_data\") # Path specifying where to put hdf5 files\n",
    "```\n",
    "Here we put the generated hdf files in the current working directory"
   ],
   "metadata": {
    "collapsed": false,
    "pycharm": {
     "name": "#%% md\n"
    }
   }
  },
  {
   "cell_type": "code",
   "execution_count": 1,
   "outputs": [],
   "source": [
    "import os\n",
    "cwd = os.getcwd()\n",
    "\n",
    "from pathlib import Path\n",
    "\n",
    "tdms_path = Path(\"/eos/project/m/ml-for-alarm-system/private/CLIC_data_transfert/CLIC_DATA_Xbox2_T24PSI_2/\")\n",
    "hdf_path = Path(cwd)\n",
    "transform(tdms_dir=tdms_path, hdf_dir=hdf_path)"
   ],
   "metadata": {
    "collapsed": false,
    "pycharm": {
     "name": "#%%\n"
    }
   }
  },
  {
   "cell_type": "markdown",
   "source": [
    "The tdms files have now been converted to hdf5 files residing in the path specified by `hdf_path`.\n",
    "Additionally, some hdf5 files which reference to all data using external links are found.\n",
    "\n",
    "## `hdf_tools`\n",
    "Now we might want to do some additional things. Here we can use the `hdf_tools` module."
   ],
   "metadata": {
    "collapsed": false,
    "pycharm": {
     "name": "#%% md\n"
    }
   }
  },
  {
   "cell_type": "code",
   "execution_count": null,
   "outputs": [],
   "source": [
    "from src.utils import hdf_tools"
   ],
   "metadata": {
    "collapsed": false,
    "pycharm": {
     "name": "#%%\n"
    }
   }
  },
  {
   "cell_type": "markdown",
   "source": [
    "First, we might wish to gather some data in a single file. This can be done using `hdf_tools.merge`."
   ],
   "metadata": {
    "collapsed": false,
    "pycharm": {
     "name": "#%% md\n"
    }
   }
  },
  {
   "cell_type": "code",
   "execution_count": null,
   "outputs": [],
   "source": [
    "hdf_tools.merge(source_file_path=hdf_path/\"TrendDataExtLinks.hdf\",\n",
    "                dest_file_path=hdf_path/\"combined_trend_data.hdf\")"
   ],
   "metadata": {
    "collapsed": false,
    "pycharm": {
     "name": "#%%\n"
    }
   }
  },
  {
   "cell_type": "markdown",
   "source": [
    "Now all the data referenced by `\"TrendDataExtLinks.hdf\"` is found in `\"combined_trend_data.hdf\"`.\n",
    "\n",
    "In the `tdms` files the dates are stored in iso8601 format. This can be converted into datetime format as follows:"
   ],
   "metadata": {
    "collapsed": false,
    "pycharm": {
     "name": "#%% md\n"
    }
   }
  },
  {
   "cell_type": "code",
   "source": [
    "hdf_tools.convert_iso8601_to_datetime(file_path=hdf_path/\"combined_trend_data.hdf\")"
   ],
   "metadata": {
    "collapsed": false,
    "pycharm": {
     "name": "#%%\n"
    }
   },
   "execution_count": null,
   "outputs": []
  },
  {
   "cell_type": "markdown",
   "source": [
    "We might also wish to sort the dataset which can be done using `hdf_tools` method `sort_by`.\n",
    "The following sorts the hdf file by the key `Timestamp`"
   ],
   "metadata": {
    "collapsed": false,
    "pycharm": {
     "name": "#%% md\n"
    }
   }
  },
  {
   "cell_type": "code",
   "execution_count": null,
   "outputs": [],
   "source": [
    "hdf_tools.sort_by(file_path=hdf_path/\"combined_trend_data.hdf\", sort_by_name=\"Timestamp\")"
   ],
   "metadata": {
    "collapsed": false,
    "pycharm": {
     "name": "#%%\n"
    }
   }
  }
 ],
 "metadata": {
  "kernelspec": {
   "name": "pycharm-5394b832",
   "language": "python",
   "display_name": "PyCharm (mlframework)"
  },
  "language_info": {
   "codemirror_mode": {
    "name": "ipython",
    "version": 2
   },
   "file_extension": ".py",
   "mimetype": "text/x-python",
   "name": "python",
   "nbconvert_exporter": "python",
   "pygments_lexer": "ipython2",
   "version": "2.7.6"
  }
 },
 "nbformat": 4,
 "nbformat_minor": 0
}