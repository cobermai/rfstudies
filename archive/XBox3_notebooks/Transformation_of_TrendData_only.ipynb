{
 "cells": [
  {
   "cell_type": "markdown",
   "metadata": {},
   "source": [
    "# How to use the API to pickle data"
   ]
  },
  {
   "cell_type": "code",
   "execution_count": 1,
   "metadata": {},
   "outputs": [],
   "source": [
    "import os\n",
    "import sys\n",
    "from datetime import date\n",
    "from pathlib import Path\n",
    "\n",
    "curr_dir = Path(os.path.split(os.getcwd())[0])\n",
    "metadata_dir = str(curr_dir)\n",
    "if metadata_dir not in sys.path:\n",
    "    sys.path.insert(0, metadata_dir)\n",
    "\n",
    "import os\n",
    "import glob\n",
    "import time\n",
    "import datetime\n",
    "import numpy as np\n",
    "import compress_pickle\n",
    "import pandas as pd\n",
    "from functools import partial\n",
    "from multiprocessing import Pool\n",
    "from bisect import bisect_left\n",
    "from scipy.interpolate import interp1d\n",
    "from scipy import signal\n",
    "import matplotlib.pyplot as plt"
   ]
  },
  {
   "cell_type": "markdown",
   "metadata": {},
   "source": [
    "## define source_path and destination_path"
   ]
  },
  {
   "cell_type": "code",
   "execution_count": 2,
   "metadata": {
    "scrolled": true
   },
   "outputs": [
    {
     "name": "stdout",
     "output_type": "stream",
     "text": [
      "current working directory: /eos/home-l/lfischl/SWAN_projects/xbox3/notebooks\n",
      "Access to EOS possible\n",
      "Root directory: /eos/project/m/ml-for-alarm-system/private/CLIC_data_transfert/\n",
      "source_path of the data: /eos/project/m/ml-for-alarm-system/private/CLIC_data_transfert/PSI1_XB2_Data/\n",
      "destination_path of the pickle: /eos/project/m/ml-for-alarm-system/private/CLIC_data_transfert/PSI1_XB2_Data___pickle_only_TrendData_2021-03-09/\n"
     ]
    }
   ],
   "source": [
    "print(\"current working directory:\",os.getcwd())\n",
    "\n",
    "if os.path.isdir(\"/eos/project/m/ml-for-alarm-system/private/\"):\n",
    "    access2EOS = True\n",
    "    print(\"Access to EOS possible\")\n",
    "    root_directory = \"/eos/project/m/ml-for-alarm-system/private/CLIC_data_transfert/\"\n",
    "else:\n",
    "    access2EOS = False\n",
    "    print(\"Access to EOS IMpossible\")\n",
    "    # search for a list of root_directory depending on the machine used to execute the notebook\n",
    "    for directory in [\"/home/thomas/cernboxML/private/CLIC_data_transfert/\",\n",
    "                      \"?Christoph/CLIC_data_transfert/\",\n",
    "                      \"?Andrea/CLIC_data_transfert/\"]:\n",
    "        if os.path.isdir(directory):\n",
    "            root_directory = directory\n",
    "print(\"Root directory:\",root_directory)\n",
    " \n",
    "# one week    \n",
    "source_path = root_directory + \"PSI1_XB2_Data/\"\n",
    "\n",
    "# 6 months\n",
    "#source_path = root_directory + \"CLIC_DATA_Xbox3/\"\n",
    "\n",
    "# don't forget the last / in the path\n",
    "destination_path = source_path[0:-1]+\"___pickle_only_TrendData_\"+str(date.today())+\"/\" \n",
    "\n",
    "print(\"source_path of the data:\",source_path)\n",
    "print(\"destination_path of the pickle:\",destination_path)"
   ]
  },
  {
   "cell_type": "markdown",
   "metadata": {},
   "source": [
    "## pickle"
   ]
  },
  {
   "cell_type": "code",
   "execution_count": 3,
   "metadata": {},
   "outputs": [
    {
     "data": {
      "text/plain": [
       "['/eos/project/m/ml-for-alarm-system/private/CLIC_data_transfert/PSI1_XB2_Data/TrendData_20180121.tdms',\n",
       " '/eos/project/m/ml-for-alarm-system/private/CLIC_data_transfert/PSI1_XB2_Data/TrendData_20180122.tdms',\n",
       " '/eos/project/m/ml-for-alarm-system/private/CLIC_data_transfert/PSI1_XB2_Data/TrendData_20180123.tdms',\n",
       " '/eos/project/m/ml-for-alarm-system/private/CLIC_data_transfert/PSI1_XB2_Data/TrendData_20180124.tdms',\n",
       " '/eos/project/m/ml-for-alarm-system/private/CLIC_data_transfert/PSI1_XB2_Data/TrendData_20180125.tdms',\n",
       " '/eos/project/m/ml-for-alarm-system/private/CLIC_data_transfert/PSI1_XB2_Data/TrendData_20180126.tdms']"
      ]
     },
     "execution_count": 3,
     "metadata": {},
     "output_type": "execute_result"
    }
   ],
   "source": [
    "listOfTrendDataFiles = glob.glob(source_path+\"Trend*.tdms\")\n",
    "listOfTrendDataFiles"
   ]
  },
  {
   "cell_type": "code",
   "execution_count": 19,
   "metadata": {},
   "outputs": [],
   "source": [
    "from nptdms import TdmsFile \n",
    "\n",
    "for dataFile in listOfTrendDataFiles:\n",
    "    TrendData = TdmsFile.read(dataFile)\n",
    "    for group in  TrendData.groups():\n",
    "        group_name = group.name\n",
    "        df = TrendData[group_name].as_dataframe()\n",
    "        break"
   ]
  },
  {
   "cell_type": "code",
   "execution_count": 5,
   "metadata": {},
   "outputs": [
    {
     "data": {
      "text/plain": [
       "OrderedDict([('name', 'TrendData_20180121'), ('Version', 1)])"
      ]
     },
     "execution_count": 5,
     "metadata": {},
     "output_type": "execute_result"
    }
   ],
   "source": [
    "from nptdms import TdmsFile\n",
    "trenddata = TdmsFile.open(listOfTrendDataFiles[0])"
   ]
  },
  {
   "cell_type": "code",
   "execution_count": 9,
   "metadata": {},
   "outputs": [
    {
     "name": "stdout",
     "output_type": "stream",
     "text": [
      "OrderedDict([('name', 'TrendData_20180121'), ('Version', 1)])\n",
      "OrderedDict()\n",
      "OrderedDict([('wf_start_time', numpy.datetime64('1904-01-01T00:00:00.000000')), ('wf_start_offset', 0.0), ('wf_increment', 1.0), ('wf_samples', 1), ('NI_ChannelName', 'Loadside win'), ('NI_UnitDescription', 'mbar'), ('unit_string', 'mbar')])\n"
     ]
    }
   ],
   "source": [
    "\n",
    "print(trenddata.properties)\n",
    "print(trenddata.groups()[0].properties)\n",
    "print(trenddata.groups()[0].channels()[1].properties)"
   ]
  },
  {
   "cell_type": "code",
   "execution_count": 20,
   "metadata": {},
   "outputs": [],
   "source": [
    "np.set_printoptions(linewidth=160)\n",
    "\n",
    "file = open(\"XB2_clms.txt\", \"w\")  #change XB2 and XB3\n",
    "file.writelines(\"%s\\n\" % str(clm) for clm in df.columns.values)\n",
    "file.close()"
   ]
  },
  {
   "cell_type": "code",
   "execution_count": 21,
   "metadata": {},
   "outputs": [
    {
     "name": "stdout",
     "output_type": "stream",
     "text": [
      "\n",
      "PKI FT avg\n",
      "PSI FT avg\n",
      "PSR FT avg\n",
      "PEI FT avg\n",
      "\n",
      "\n",
      "PKI max\n",
      "PSI max\n",
      "PSR max\n",
      "PEI max\n",
      "\n",
      "\n",
      "BLM TIA min\n",
      "BLM min\n",
      "DC Down min\n",
      "DC Up min\n",
      "\n",
      "\n",
      "\n",
      "\n",
      "Klystron Flange Temp\n",
      "Load Temp\n",
      "PC Left Cavity Temp\n",
      "PC Right Cavity Temp\n",
      "Bunker WG Temp\n",
      "Structure Input Temp\n",
      "\n"
     ]
    }
   ],
   "source": [
    "f2 = open(\"XB2_clms.txt\",\"r\")\n",
    "lines = [l[:-1] for l in f2.readlines()]\n",
    "features2 = [\"avg\", \"max\", \"min\", \"Pulse width\"]\n",
    "prop2 = [\"Temp\"]\n",
    "for feature in features2:\n",
    "    tmp_str = \"\"\n",
    "    for l in lines:\n",
    "        if feature in l:\n",
    "            tmp_str += \"\\n\" + l\n",
    "    print(tmp_str+ \"\\n\")\n",
    "    \n",
    "for prop in prop2:\n",
    "    tmp_str = \"\"\n",
    "    for l in lines:\n",
    "        if prop in l:\n",
    "            tmp_str += \"\\n\" + l\n",
    "    print(tmp_str + \"\\n\")"
   ]
  },
  {
   "cell_type": "code",
   "execution_count": 16,
   "metadata": {},
   "outputs": [
    {
     "name": "stdout",
     "output_type": "stream",
     "text": [
      "\n",
      "1KLYINA_ampcursor Blue mean \n",
      "1KLYINB_ampcursor Blue mean \n",
      "1PKIA_ampcursor Blue mean \n",
      "1PKIB_ampcursor Blue mean \n",
      "1PLIA_ampcursor Blue mean \n",
      "1PLIB_ampcursor Blue mean \n",
      "1PKRAcursor Blue mean \n",
      "1PKRBcursor Blue mean \n",
      "1PSI_ampcursor grey mean \n",
      "1PEI_ampcursor grey mean \n",
      "2KLYINA_ampcursor Blue mean \n",
      "2KLYINB_ampcursor Blue mean \n",
      "2PKIA_ampcursor Blue mean \n",
      "2PKIB_ampcursor Blue mean \n",
      "2PLIA_ampcursor Blue mean \n",
      "2PLIB_ampcursor Blue mean \n",
      "2PKRAcursor Blue mean \n",
      "2PKRBcursor Blue mean \n",
      "2PSI_ampcursor grey mean \n",
      "2PEI_ampcursor grey mean \n",
      "\n",
      "\n",
      "1KLYINA_amp max\n",
      "1KLYINB_amp max\n",
      "1PKIA_amp max\n",
      "1PKIB_amp max\n",
      "1PLIA_amp max\n",
      "1PLIB_amp max\n",
      "1PKRA max\n",
      "1PKRB max\n",
      "1PSI_amp max\n",
      "1PEI_amp max\n",
      "2KLYINA_amp max\n",
      "2KLYINB_amp max\n",
      "2PKIA_amp max\n",
      "2PKIB_amp max\n",
      "2PLIA_amp max\n",
      "2PLIB_amp max\n",
      "2PKRA max\n",
      "2PKRB max\n",
      "2PSI_amp max\n",
      "2PEI_amp max\n",
      "\n",
      "\n",
      "\n",
      "\n",
      "1KLYINA_amp pulse width\n",
      "1KLYINB_amp pulse width\n",
      "1PKIA_amp pulse width\n",
      "1PKIB_amp pulse width\n",
      "1PLIA_amp pulse width\n",
      "1PLIB_amp pulse width\n",
      "1PKRA pulse width\n",
      "1PKRB pulse width\n",
      "1PSI_amp pulse width\n",
      "1PEI_amp pulse width\n",
      "2KLYINA_amp pulse width\n",
      "2KLYINB_amp pulse width\n",
      "2PKIA_amp pulse width\n",
      "2PKIB_amp pulse width\n",
      "2PLIA_amp pulse width\n",
      "2PLIB_amp pulse width\n",
      "2PKRA pulse width\n",
      "2PKRB pulse width\n",
      "2PSI_amp pulse width\n",
      "2PEI_amp pulse width\n",
      "\n",
      "\n",
      "Klystron A Temp\n",
      "Hybrid 1 Temp\n",
      "PC1_Left Temp\n",
      "PC1_Right Temp\n",
      "PC1_Hybrid Temp\n",
      "Structure 1 In Temp\n",
      "Structure 1 Out Temp\n",
      "Load 1 In Temp\n",
      "Load 1 Temp\n",
      "Load 1 Out Temp\n",
      "Klystron B Temp\n",
      "Hybrid 2 Temp\n",
      "PC2_Left Temp\n",
      "PC2_Right Temp\n",
      "PC2_Hybrid Temp\n",
      "Strcuture 2 In Temp\n",
      "Structure 2 Out Temp\n",
      "Load 2 In Temp\n",
      "Load 2 Temp\n",
      "Load 2 Out Temp\n",
      "\n",
      "\n",
      "\n"
     ]
    }
   ],
   "source": [
    "f3 = open(\"XB3_clms.txt\",\"r\")\n",
    "lines = [l[:-1] for l in f3.readlines()]\n",
    "features3 = [\"mean\", \"max\", \"min\", \"pulse width\"]\n",
    "prop3 = [\"Temp\", \"Preassure\"]\n",
    "for feature in features3:\n",
    "    tmp_str = \"\"\n",
    "    for l in lines:\n",
    "        if feature in l:\n",
    "            tmp_str += \"\\n\" + l\n",
    "    print(tmp_str + \"\\n\")\n",
    "\n",
    "for prop in prop3:\n",
    "    tmp_str = \"\"\n",
    "    for l in lines:\n",
    "        if prop in l:\n",
    "            tmp_str += \"\\n\" + l\n",
    "    print(tmp_str + \"\\n\")"
   ]
  },
  {
   "cell_type": "code",
   "execution_count": null,
   "metadata": {},
   "outputs": [],
   "source": []
  }
 ],
 "metadata": {
  "kernelspec": {
   "display_name": "Python 3",
   "language": "python",
   "name": "python3"
  },
  "language_info": {
   "codemirror_mode": {
    "name": "ipython",
    "version": 3
   },
   "file_extension": ".py",
   "mimetype": "text/x-python",
   "name": "python",
   "nbconvert_exporter": "python",
   "pygments_lexer": "ipython3",
   "version": "3.8.6"
  }
 },
 "nbformat": 4,
 "nbformat_minor": 2
}
